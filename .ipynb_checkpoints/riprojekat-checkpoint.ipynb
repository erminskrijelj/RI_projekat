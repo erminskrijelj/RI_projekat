{
 "cells": [
  {
   "cell_type": "code",
   "execution_count": 9,
   "id": "warming-gates",
   "metadata": {},
   "outputs": [],
   "source": [
    "import numpy as np\n",
    "import pandas as pd\n",
    "import random "
   ]
  },
  {
   "cell_type": "code",
   "execution_count": 10,
   "id": "careful-error",
   "metadata": {},
   "outputs": [],
   "source": [
    "globalBestCenters=None"
   ]
  },
  {
   "cell_type": "code",
   "execution_count": 11,
   "id": "about-thing",
   "metadata": {},
   "outputs": [],
   "source": [
    "class Individual:\n",
    "    def __init__(self,points):\n",
    "        #self.correctNonFeasible()     \n",
    "        \n",
    "        #self.code=random.sample(points,num_clusters)\n",
    "        self.code=[points[random.randrange(len(points))] for _ in range(3)] #3 je broj klastera\n",
    "        self.fitness = self.calcFitness(points)\n",
    "        self.centers=self.code\n",
    "        \n",
    "    def __lt__(self, other):\n",
    "        return self.fitness < other.fitness\n",
    "    \n",
    "        \n",
    "    def calcFitness(self,points):\n",
    "#         ###########\n",
    "#         s=set()\n",
    "#         for i in range(len(points[0])):\n",
    "#             for j in range(1,len(points[0])):\n",
    "#                 #if ed(self.code[i],self.code[j])>0.001:\n",
    "#                 if i!=j:\n",
    "#                     s.add(self.ed(self.code[i],self.code[j]))\n",
    "        \n",
    "#         #dist_centers=list(s)\n",
    "#         min_dist=min(s)\n",
    "        ############\n",
    "        \n",
    "        error=0\n",
    "        c_index=-1\n",
    "        min_dist_cluster=float('inf')\n",
    "        for i in range(len(points)): #idemo po tackama niza tacala (points)\n",
    "            for j in range(len(self.code)): #trazimo klaster kome bi pripadala ta tacka ed(points[i],self.code[i]) and :\n",
    "                d= ed(points[i],self.code[i])   \n",
    "                if d<min_dist_cluster:\n",
    "                    min_dist_cluster=d\n",
    "                    c_index=j\n",
    "            \n",
    "            error+=min_dist_cluster\n",
    "            \n",
    "        fitness=1/(error+0.0001)    \n",
    "                \n",
    "        return fitness\n",
    "    \n",
    "    \n",
    "#     def calcFitness(self, cost, fixedCost):\n",
    "#         numUsers = len(cost)\n",
    "#         numResources = len(fixedCost)\n",
    "#         usedResources = [False for _ in range(numResources)]\n",
    "#         totalCost = 0\n",
    "#         for i in range(numUsers):\n",
    "#             minCost = float('inf')\n",
    "#             resourceUsed = -1\n",
    "#             for j in range(numResources):\n",
    "#                 if cost[i][j] < minCost and self.code[j]:\n",
    "#                     minCost = cost[i][j]\n",
    "#                     resourceUsed = j\n",
    "#             totalCost += minCost\n",
    "#             usedResources[resourceUsed] = True\n",
    "#         # True, False, True -> True, False, False\n",
    "        \n",
    "#         self.code = usedResources\n",
    "        \n",
    "#         for j, resource in enumerate(self.code):\n",
    "#             if resource:\n",
    "#                 totalCost += fixedCost[j]\n",
    "        \n",
    "#         fitness = 1 / totalCost\n",
    "#         return fitness"
   ]
  },
  {
   "cell_type": "code",
   "execution_count": 12,
   "id": "dimensional-korean",
   "metadata": {},
   "outputs": [],
   "source": [
    "#Eucledian distance-Euklidsko rastojanje\n",
    "def ed(a,b):\n",
    "        a=np.array(a)\n",
    "        b=np.array(b)\n",
    "        dist=np.linalg.norm(a-b)\n",
    "        return dist"
   ]
  },
  {
   "cell_type": "code",
   "execution_count": 13,
   "id": "southwest-equation",
   "metadata": {},
   "outputs": [],
   "source": [
    "class Points:    \n",
    "    def __init__(self, x, y):\n",
    "        '''Defines x and y variables'''\n",
    "        self.X = x\n",
    "        self.Y = y\n",
    "\n",
    "    def move(self, dx, dy):\n",
    "        '''Determines where x and y move'''\n",
    "        self.X = self.X + dx\n",
    "        self.Y = self.Y + dy\n",
    "\n",
    "    def __str__(self):\n",
    "        return \"Point(%s,%s)\"%(self.X, self.Y) \n",
    "\n",
    "    def getX(self):\n",
    "        return self.X\n",
    "\n",
    "    def getY(self):\n",
    "        return self.Y\n",
    "\n",
    "    def distance(self, other):\n",
    "        dx = self.X - other.X\n",
    "        dy = self.Y - other.Y\n",
    "        return math.sqrt(dx**2 + dy**2)\n",
    "\n",
    "#     def testPoint(x=0,y=0):\n",
    "#         '''Returns a point and distance'''\n",
    "#         p1 = Point(3, 4)\n",
    "#         print p1\n",
    "#         p2 = Point(3,0)\n",
    "#         print p2\n",
    "#         return math.hypot(dx, dy)\n",
    "\n",
    "#     print \"distance = %s\"%(testPoint()) \n",
    "    "
   ]
  },
  {
   "cell_type": "code",
   "execution_count": 14,
   "id": "synthetic-sitting",
   "metadata": {},
   "outputs": [],
   "source": [
    "def readFile(filename):\n",
    "    with open(filename, 'r') as f:\n",
    "        num_points,dim=[int(x) for x in f.readline().split()]\n",
    "        points=[[float(x) for x in f.readline().split()] for _ in range(num_points)]\n",
    "        return points"
   ]
  },
  {
   "cell_type": "code",
   "execution_count": 15,
   "id": "general-differential",
   "metadata": {},
   "outputs": [],
   "source": [
    "points=readFile(\"input2.txt\")"
   ]
  },
  {
   "cell_type": "code",
   "execution_count": 16,
   "id": "bulgarian-simon",
   "metadata": {},
   "outputs": [
    {
     "name": "stdout",
     "output_type": "stream",
     "text": [
      "3 2 [[1.2, 2.1], [3.4, 5.6], [7.8, 2.9]] [1.2, 2.1]\n"
     ]
    }
   ],
   "source": [
    "num_points=len(points)\n",
    "num_dimensions=len(points[0])\n",
    "print(num_points,num_dimensions,points,points[0])"
   ]
  },
  {
   "cell_type": "code",
   "execution_count": 17,
   "id": "immediate-visiting",
   "metadata": {},
   "outputs": [],
   "source": [
    "def crossover(parent1,parent2,chil1,child2):\n",
    "    #[(1,2),(3,4),(5,6)]\n",
    "    #breakpoint random broj[0,len(self.code)]\n",
    "    #mora da bude Deljivo sa 2!!!\n",
    "    return None"
   ]
  },
  {
   "cell_type": "code",
   "execution_count": 18,
   "id": "fabulous-breakdown",
   "metadata": {},
   "outputs": [],
   "source": [
    "def selection():\n",
    "    #biramo random predstavnika za svaki klaster\n",
    "    #koji ce se vremenom unaprediti i tako ce napredovati ceo proces\n",
    "    return None"
   ]
  },
  {
   "cell_type": "code",
   "execution_count": 19,
   "id": "blank-danish",
   "metadata": {},
   "outputs": [],
   "source": [
    "def mutation():\n",
    "    #alfa=random pomeraj za neki vektor ([0,1],[0,1])\n",
    "    #njega doddajemo vrednosti izabrane tacke(jedinke)\n",
    "    return None"
   ]
  },
  {
   "cell_type": "markdown",
   "id": "contained-platform",
   "metadata": {},
   "source": [
    "# Parametri genetskog algoritma:\n"
   ]
  },
  {
   "cell_type": "code",
   "execution_count": 20,
   "id": "found-photography",
   "metadata": {},
   "outputs": [],
   "source": [
    "POPULATION_SIZE = 20\n",
    "NUM_GENERATIONS = 10\n",
    "ELITISIM_SIZE = POPULATION_SIZE // 4\n"
   ]
  },
  {
   "cell_type": "code",
   "execution_count": 21,
   "id": "statistical-correspondence",
   "metadata": {},
   "outputs": [
    {
     "ename": "TypeError",
     "evalue": "selection() takes 0 positional arguments but 1 was given",
     "output_type": "error",
     "traceback": [
      "\u001b[0;31m---------------------------------------------------------------------------\u001b[0m",
      "\u001b[0;31mTypeError\u001b[0m                                 Traceback (most recent call last)",
      "\u001b[0;32m<ipython-input-21-ffad5cebaaa6>\u001b[0m in \u001b[0;36m<module>\u001b[0;34m\u001b[0m\n\u001b[1;32m      7\u001b[0m \u001b[0;34m\u001b[0m\u001b[0m\n\u001b[1;32m      8\u001b[0m     \u001b[0;32mfor\u001b[0m \u001b[0mj\u001b[0m \u001b[0;32min\u001b[0m \u001b[0mrange\u001b[0m\u001b[0;34m(\u001b[0m\u001b[0mELITISIM_SIZE\u001b[0m\u001b[0;34m,\u001b[0m \u001b[0mPOPULATION_SIZE\u001b[0m\u001b[0;34m,\u001b[0m \u001b[0;36m2\u001b[0m\u001b[0;34m)\u001b[0m\u001b[0;34m:\u001b[0m\u001b[0;34m\u001b[0m\u001b[0;34m\u001b[0m\u001b[0m\n\u001b[0;32m----> 9\u001b[0;31m         \u001b[0mparent1Index\u001b[0m \u001b[0;34m=\u001b[0m \u001b[0mselection\u001b[0m\u001b[0;34m(\u001b[0m\u001b[0mpopulation\u001b[0m\u001b[0;34m)\u001b[0m\u001b[0;34m\u001b[0m\u001b[0;34m\u001b[0m\u001b[0m\n\u001b[0m\u001b[1;32m     10\u001b[0m         \u001b[0mparent2Index\u001b[0m \u001b[0;34m=\u001b[0m \u001b[0mselection\u001b[0m\u001b[0;34m(\u001b[0m\u001b[0mpopulation\u001b[0m\u001b[0;34m)\u001b[0m\u001b[0;34m\u001b[0m\u001b[0;34m\u001b[0m\u001b[0m\n\u001b[1;32m     11\u001b[0m \u001b[0;34m\u001b[0m\u001b[0m\n",
      "\u001b[0;31mTypeError\u001b[0m: selection() takes 0 positional arguments but 1 was given"
     ]
    }
   ],
   "source": [
    "\n",
    "population = [Individual(points) for _ in range(POPULATION_SIZE)]\n",
    "newPopulation = [Individual(points) for _ in range(POPULATION_SIZE)]\n",
    "\n",
    "for i in range(NUM_GENERATIONS):\n",
    "    population.sort(reverse=True)\n",
    "    newPopulation[:ELITISIM_SIZE] = population[:ELITISIM_SIZE]\n",
    "    \n",
    "    for j in range(ELITISIM_SIZE, POPULATION_SIZE, 2):\n",
    "        parent1Index = selection(population)\n",
    "        parent2Index = selection(population)\n",
    "        \n",
    "        crossover(population[parent1Index], population[parent2Index], newPopulation[j], newPopulation[j+1])\n",
    "        \n",
    "        mutation(newPopulation[j])\n",
    "        mutation(newPopulation[j+1])\n",
    "        \n",
    "        newPopulation[j].fitness = newPopulation[j].calcFitness(cost, fixedCost)\n",
    "        newPopulation[j+1].fitness = newPopulation[j+1].calcFitness(cost, fixedCost)\n",
    "    \n",
    "    population = newPopulation\n",
    "\n",
    "    \n",
    "bestIndividual = max(population)\n",
    "print(f'solution: {bestIndividual.code}, fitness: {bestIndividual.fitness}')"
   ]
  },
  {
   "cell_type": "code",
   "execution_count": null,
   "id": "instrumental-deployment",
   "metadata": {},
   "outputs": [],
   "source": []
  }
 ],
 "metadata": {
  "kernelspec": {
   "display_name": "Python 3",
   "language": "python",
   "name": "python3"
  },
  "language_info": {
   "codemirror_mode": {
    "name": "ipython",
    "version": 3
   },
   "file_extension": ".py",
   "mimetype": "text/x-python",
   "name": "python",
   "nbconvert_exporter": "python",
   "pygments_lexer": "ipython3",
   "version": "3.8.5"
  }
 },
 "nbformat": 4,
 "nbformat_minor": 5
}
