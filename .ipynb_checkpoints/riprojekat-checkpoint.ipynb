{
 "cells": [
  {
   "cell_type": "code",
   "execution_count": 1064,
   "id": "warming-gates",
   "metadata": {},
   "outputs": [],
   "source": [
    "import numpy as np\n",
    "import pandas as pd\n",
    "import random "
   ]
  },
  {
   "cell_type": "code",
   "execution_count": 1065,
   "id": "identical-criticism",
   "metadata": {},
   "outputs": [],
   "source": [
    "import pygad\n",
    "import matplotlib.pyplot as plt"
   ]
  },
  {
   "cell_type": "code",
   "execution_count": 1066,
   "id": "ab6de20d",
   "metadata": {},
   "outputs": [
    {
     "data": {
      "image/png": "[encoded data removed]",
      "text/plain": [
       "<Figure size 1152x504 with 1 Axes>"
      ]
     },
     "metadata": {
      "needs_background": "light"
     },
     "output_type": "display_data"
    }
   ],
   "source": [
    "cluster1_num_samples = 20\n",
    "cluster1_x1_start = 0\n",
    "cluster1_x1_end = 5\n",
    "cluster1_x2_start = 2\n",
    "cluster1_x2_end = 6\n",
    "cluster1_x1 = np.random.random(size=(cluster1_num_samples))\n",
    "cluster1_x1 = cluster1_x1 * (cluster1_x1_end - cluster1_x1_start) + cluster1_x1_start\n",
    "cluster1_x2 = np.random.random(size=(cluster1_num_samples))\n",
    "cluster1_x2 = cluster1_x2 * (cluster1_x2_end - cluster1_x2_start) + cluster1_x2_start\n",
    "\n",
    "cluster2_num_samples = 20\n",
    "cluster2_x1_start = 4\n",
    "cluster2_x1_end = 12\n",
    "cluster2_x2_start = 14\n",
    "cluster2_x2_end = 18\n",
    "cluster2_x1 = np.random.random(size=(cluster2_num_samples))\n",
    "cluster2_x1 = cluster2_x1 * (cluster2_x1_end - cluster2_x1_start) + cluster2_x1_start\n",
    "cluster2_x2 = np.random.random(size=(cluster2_num_samples))\n",
    "cluster2_x2 = cluster2_x2 * (cluster2_x2_end - cluster2_x2_start) + cluster2_x2_start\n",
    "\n",
    "cluster3_num_samples = 20\n",
    "cluster3_x1_start = 12\n",
    "cluster3_x1_end = 18\n",
    "cluster3_x2_start = 8\n",
    "cluster3_x2_end = 11\n",
    "cluster3_x1 = np.random.random(size=(cluster3_num_samples))\n",
    "cluster3_x1 = cluster3_x1 * (cluster3_x1_end - cluster3_x1_start) + cluster3_x1_start\n",
    "cluster3_x2 = np.random.random(size=(cluster3_num_samples))\n",
    "cluster3_x2 = cluster3_x2 * (cluster3_x2_end - cluster3_x2_start) + cluster3_x2_start\n",
    "\n",
    "c1 = np.array([cluster1_x1, cluster1_x2]).T\n",
    "c2 = np.array([cluster2_x1, cluster2_x2]).T\n",
    "c3 = np.array([cluster3_x1, cluster3_x2]).T\n",
    "\n",
    "data = np.concatenate((c1, c2, c3), axis=0)\n",
    "\n",
    "fig,ax=plt.subplots(figsize=(16,7))\n",
    "\n",
    "plt.scatter(cluster1_x1, cluster1_x2)\n",
    "plt.scatter(cluster2_x1, cluster2_x2)\n",
    "plt.scatter(cluster3_x1, cluster3_x2)\n",
    "plt.title(\"Optimal Clustering\")\n",
    "plt.show()\n"
   ]
  },
  {
   "cell_type": "code",
   "execution_count": 1067,
   "id": "600a4cc4",
   "metadata": {},
   "outputs": [],
   "source": [
    "points=data.tolist()"
   ]
  },
  {
   "cell_type": "code",
   "execution_count": 1068,
   "id": "about-thing",
   "metadata": {},
   "outputs": [],
   "source": [
    "class Individual:\n",
    "    def __init__(self,points,num_clusters):\n",
    "  \n",
    "        self.code=[points[random.randrange(len(points))] for _ in range(num_clusters)] #3 je broj klastera\n",
    "        self.fitness = self.calcFitness(points,num_clusters)\n",
    "        #self.centroids=self.calculateCentroids(points)\n",
    "        \n",
    "    def __lt__(self, other):\n",
    "        return self.fitness < other.fitness\n",
    "    \n",
    "    \n",
    "    def ed(self,a,b):\n",
    "        a=np.array(a)\n",
    "        b=np.array(b)\n",
    "        dist=np.linalg.norm(a-b)\n",
    "        \n",
    "        return dist\n",
    "    \n",
    "    def cluster_id(self,point,centroids):\n",
    "        d=float('inf')\n",
    "        index=-1\n",
    "        best_d=float('inf')\n",
    "        \n",
    "        for i,c in enumerate(centroids):\n",
    "            new_d=self.ed(point,c)\n",
    "            if new_d<best_d:\n",
    "                best_d=new_d\n",
    "                index=i\n",
    "   \n",
    "        return index\n",
    "        \n",
    "    def sse_partial(self,points,cluster_index):\n",
    "        #s=0\n",
    "        sc=0\n",
    "        \n",
    "        for p in points:\n",
    "            if self.cluster_id(p,self.code)==cluster_index:\n",
    "                sc+=(self.ed(p,self.code[cluster_index]))**2\n",
    "                #if p[-1],==cluster_index:\n",
    "            \n",
    "        return sc\n",
    "        \n",
    "    def sse(self,points,num_clusters):\n",
    "        s=0\n",
    "        for k in range(num_clusters):\n",
    "            s+=self.sse_partial(points,k)\n",
    "        \n",
    "        return s\n",
    "   \n",
    "\n",
    "    def calcFitness(self,points,num_clusters):\n",
    "        \n",
    "        error=self.sse(points,num_clusters)\n",
    "        fitness=1/error\n",
    "        \n",
    "        return fitness\n"
   ]
  },
  {
   "cell_type": "code",
   "execution_count": 1069,
   "id": "synthetic-sitting",
   "metadata": {},
   "outputs": [],
   "source": [
    "def readFile(filename):\n",
    "    with open(filename, 'r') as f:\n",
    "        num_points,dim=[int(x) for x in f.readline().split()]\n",
    "        points=[[float(x) for x in f.readline().split()] for _ in range(num_points)]\n",
    "        return points"
   ]
  },
  {
   "cell_type": "code",
   "execution_count": 1070,
   "id": "general-differential",
   "metadata": {},
   "outputs": [],
   "source": [
    "# points=readFile(\"input2.txt\")"
   ]
  },
  {
   "cell_type": "code",
   "execution_count": 1071,
   "id": "883933ce",
   "metadata": {},
   "outputs": [],
   "source": [
    "# points"
   ]
  },
  {
   "cell_type": "code",
   "execution_count": 1072,
   "id": "bulgarian-simon",
   "metadata": {},
   "outputs": [],
   "source": [
    "# num_points=len(points)\n",
    "# num_dimensions=len(points[0])\n",
    "# print(num_points,num_dimensions,points,points[0])"
   ]
  },
  {
   "cell_type": "code",
   "execution_count": 1073,
   "id": "dimensional-korean",
   "metadata": {},
   "outputs": [],
   "source": [
    "#Eucledian distance-Euklidsko rastojanje\n",
    "def ed(a,b):\n",
    "    a=np.array(a)\n",
    "    b=np.array(b)\n",
    "    dist=np.linalg.norm(a-b)\n",
    "    return dist"
   ]
  },
  {
   "cell_type": "code",
   "execution_count": 1074,
   "id": "southern-coating",
   "metadata": {},
   "outputs": [
    {
     "name": "stdout",
     "output_type": "stream",
     "text": [
      "2.2552206131013115\n"
     ]
    }
   ],
   "source": [
    "print(ed(points[1],points[2]))"
   ]
  },
  {
   "cell_type": "code",
   "execution_count": 1075,
   "id": "special-guinea",
   "metadata": {},
   "outputs": [],
   "source": [
    "def cluster_id(point,centroids):\n",
    "    d=float('inf')\n",
    "    index=-1\n",
    "    best_d=float('inf')\n",
    "    for i,c in enumerate(centroids):\n",
    "        new_d=ed(point,c)\n",
    "        if new_d<best_d:\n",
    "            best_d=new_d\n",
    "            index=i\n",
    "            \n",
    "    return index"
   ]
  },
  {
   "cell_type": "code",
   "execution_count": 1076,
   "id": "immediate-visiting",
   "metadata": {},
   "outputs": [],
   "source": [
    "def crossover(parent1,parent2,child1,child2):\n",
    "    \n",
    "#     breakpoint = -1\n",
    "#     while(breakpoint % 2 != 0):\n",
    "    breakpoint = random.randrange(len(parent1.code))\n",
    "    \n",
    "    child1.code[:breakpoint] = parent1.code[:breakpoint]\n",
    "    child2.code[:breakpoint] = parent2.code[:breakpoint]\n",
    "    \n",
    "    child1.code[breakpoint:] = parent2.code[breakpoint:]\n",
    "    child2.code[breakpoint:] = parent1.code[breakpoint:]\n",
    "    \n",
    "    #print(breakpoint)\n",
    " \n",
    "\n",
    "    #[(1,2),(3,4),(5,6)]\n",
    "    #breakpoint random broj[0,len(self.code)]\n",
    "    #mora da bude Deljivo sa 2!!!\n",
    "#     return None"
   ]
  },
  {
   "cell_type": "code",
   "execution_count": 1077,
   "id": "fabulous-breakdown",
   "metadata": {},
   "outputs": [],
   "source": [
    "def selection(population):\n",
    "    \n",
    "    TOURNAMENT_SIZE = 5\n",
    "    bestFitness = float('-inf')\n",
    "    index = -1\n",
    "    for i in range(TOURNAMENT_SIZE):\n",
    "        randomIndividual = random.randrange(len(population))\n",
    "        if population[randomIndividual].fitness > bestFitness:\n",
    "            bestFitness = population[randomIndividual].fitness\n",
    "            index = randomIndividual\n",
    "    return index\n",
    "    \n",
    "    \n",
    "    #biramo random predstavnika za svaki klaster\n",
    "    #koji ce se vremenom unaprediti i tako ce napredovati ceo proces"
   ]
  },
  {
   "cell_type": "code",
   "execution_count": 1078,
   "id": "blank-danish",
   "metadata": {},
   "outputs": [],
   "source": [
    "def mutation(individual):\n",
    "    #alfa=random pomeraj za neki vektor ([0,1],[0,1])\n",
    "    #njega doddajemo vrednosti izabrane tacke(jedinke)\n",
    "    MUTATION_PROB=0.05\n",
    "    \n",
    "    for i in range(len(individual.code)):\n",
    "        l=np.array(individual.code[i])\n",
    "        alpha=random.uniform(0,1)\n",
    "        c_a=random.randint(0,3)\n",
    "        znak=random.uniform(0,1)\n",
    "        if random.random()<MUTATION_PROB:\n",
    "            if znak>=0.5:\n",
    "                l=l+(alpha*c_a)\n",
    "                l=np.round(l,2)\n",
    "                individual.code[i]=l.tolist()\n",
    "            else:\n",
    "                l=l - (alpha*c_a)\n",
    "                l=np.round(l,2)\n",
    "                individual.code[i]=l.tolist()\n",
    "    "
   ]
  },
  {
   "cell_type": "markdown",
   "id": "contained-platform",
   "metadata": {},
   "source": [
    "# Parametri genetskog algoritma:\n"
   ]
  },
  {
   "cell_type": "code",
   "execution_count": 1079,
   "id": "found-photography",
   "metadata": {},
   "outputs": [],
   "source": [
    "POPULATION_SIZE = 20\n",
    "NUM_GENERATIONS = 30\n",
    "ELITISIM_SIZE = POPULATION_SIZE // 5\n",
    "num_clusters=3"
   ]
  },
  {
   "cell_type": "code",
   "execution_count": 1080,
   "id": "statistical-correspondence",
   "metadata": {},
   "outputs": [
    {
     "name": "stdout",
     "output_type": "stream",
     "text": [
      "solution: [[14.76, 9.74], [2.76, 3.1], [7.93, 15.72]], fitness: 0.0038190778181399695\n"
     ]
    }
   ],
   "source": [
    "\n",
    "population = [Individual(points,num_clusters) for _ in range(POPULATION_SIZE)]\n",
    "newPopulation = [Individual(points,num_clusters) for _ in range(POPULATION_SIZE)]\n",
    "\n",
    "for i in range(NUM_GENERATIONS):\n",
    "    population.sort(reverse=True)\n",
    "    newPopulation[:ELITISIM_SIZE] = population[:ELITISIM_SIZE]\n",
    "    \n",
    "    for j in range(ELITISIM_SIZE, POPULATION_SIZE, 2):\n",
    "        \n",
    "        parent1Index = selection(population)\n",
    "        parent2Index = selection(population)\n",
    "        \n",
    "        crossover(population[parent1Index], population[parent2Index], newPopulation[j], newPopulation[j+1])\n",
    "        \n",
    "        #print(j)\n",
    "        #print(population[parent1Index].code)\n",
    "        #print(population[parent2Index].code)\n",
    "        mutation(newPopulation[j])\n",
    "        mutation(newPopulation[j+1])\n",
    "        \n",
    "        newPopulation[j].fitness = newPopulation[j].calcFitness(points,num_clusters) #izmenio na points u ()\n",
    "        newPopulation[j+1].fitness = newPopulation[j+1].calcFitness(points,num_clusters)\n",
    "        \n",
    "#         print(j)\n",
    "#         print(newPopulation[j].code)\n",
    "#         print(newPopulation[j+1].code)\n",
    "#         print()\n",
    "#         print()\n",
    "        \n",
    "    population = newPopulation\n",
    "\n",
    "    \n",
    "bestIndividual = max(population)\n",
    "print(f'solution: {bestIndividual.code}, fitness: {bestIndividual.fitness}')"
   ]
  },
  {
   "cell_type": "code",
   "execution_count": 1082,
   "id": "05ce3a7a",
   "metadata": {},
   "outputs": [
    {
     "data": {
      "text/plain": [
       "[[14.76, 9.74], [2.76, 3.1], [7.93, 15.72]]"
      ]
     },
     "execution_count": 1082,
     "metadata": {},
     "output_type": "execute_result"
    }
   ],
   "source": [
    "cluster_centers=bestIndividual.code.copy()\n",
    "cluster_centers"
   ]
  },
  {
   "cell_type": "code",
   "execution_count": 1083,
   "id": "orange-liability",
   "metadata": {},
   "outputs": [
    {
     "data": {
      "text/plain": [
       "[0.14978043286674292, 3.5790095237385393]"
      ]
     },
     "execution_count": 1083,
     "metadata": {},
     "output_type": "execute_result"
    }
   ],
   "source": [
    "points[0]"
   ]
  },
  {
   "cell_type": "code",
   "execution_count": 1084,
   "id": "involved-benefit",
   "metadata": {},
   "outputs": [],
   "source": [
    "def assign_center(points,centers):\n",
    "    best_d=float(\"inf\")\n",
    "    ind=-1\n",
    "    n=len(points[0])\n",
    "    \n",
    "    for p in points:\n",
    "        best_d=float('inf')\n",
    "        for j,c in enumerate(centers):\n",
    "            if(len(p)==n and len(c)==n):\n",
    "                d_new=ed(p,c)\n",
    "            \n",
    "                if d_new<best_d:\n",
    "                    ind=j\n",
    "                    best_d=d_new    \n",
    "                    \n",
    "        p.append(ind)\n",
    "        "
   ]
  },
  {
   "cell_type": "code",
   "execution_count": 1085,
   "id": "ultimate-elizabeth",
   "metadata": {},
   "outputs": [
    {
     "name": "stdout",
     "output_type": "stream",
     "text": [
      "[0.14978043286674292, 3.5790095237385393] [3.081622538092847, 2.8340556664766416]\n"
     ]
    }
   ],
   "source": [
    "print(points[0],points[4])\n"
   ]
  },
  {
   "cell_type": "code",
   "execution_count": 1086,
   "id": "varying-imperial",
   "metadata": {},
   "outputs": [],
   "source": [
    "assign_center(points,cluster_centers)\n",
    "# points"
   ]
  },
  {
   "cell_type": "code",
   "execution_count": 1087,
   "id": "capital-retrieval",
   "metadata": {},
   "outputs": [
    {
     "data": {
      "text/plain": [
       "[4.865234174737921, 3.887599611668675, 1]"
      ]
     },
     "execution_count": 1087,
     "metadata": {},
     "output_type": "execute_result"
    }
   ],
   "source": [
    "points[1]"
   ]
  },
  {
   "cell_type": "code",
   "execution_count": 1088,
   "id": "polish-bowling",
   "metadata": {},
   "outputs": [],
   "source": [
    "def create_cluster_arrays(points,centers):\n",
    "    a=[]\n",
    "    b=[]\n",
    "    c=[]\n",
    "    M=[]\n",
    "    num_clusters=len(centers)\n",
    "    for p in points:\n",
    "        if p[-1]==0:\n",
    "            a.append(p)\n",
    "    \n",
    "    #a=np.array(a)\n",
    "    \n",
    "    for p in points:\n",
    "        if p[-1]==1:\n",
    "            b.append(p)\n",
    "    \n",
    "    #b=np.array(a)\n",
    "#     M=np.vstack((a,b))\n",
    "    M.append(a)\n",
    "    M.append(b)\n",
    "    \n",
    "    for i in range(num_clusters): \n",
    "        c.clear()\n",
    "        for p in points:\n",
    "            if p[-1]==i and i!=0 and i!=1:\n",
    "                c.append(p)\n",
    "#         c=np.array(c)        \n",
    "        M.append(c)\n",
    "    \n",
    "    return M"
   ]
  },
  {
   "cell_type": "code",
   "execution_count": 1089,
   "id": "threaded-protocol",
   "metadata": {},
   "outputs": [
    {
     "data": {
      "text/plain": [
       "[[[12.714957512175292, 9.369525800180174, 0],\n",
       "  [15.604138518410428, 9.852831174191266, 0],\n",
       "  [13.835269384703587, 10.360444945723948, 0],\n",
       "  [17.865973920841324, 9.351899487982974, 0],\n",
       "  [13.891548247750539, 8.820390514740842, 0],\n",
       "  [17.830779044578662, 8.611009775664394, 0],\n",
       "  [16.16001406310243, 9.219170884730989, 0],\n",
       "  [12.108059072554234, 9.185453854126873, 0],\n",
       "  [14.406074996054919, 9.097727889742599, 0],\n",
       "  [12.646607156469901, 10.446670609769605, 0],\n",
       "  [14.048521714099785, 9.849555118105775, 0],\n",
       "  [14.644189094843851, 8.474667397901683, 0],\n",
       "  [16.408649409650096, 10.90578342628978, 0],\n",
       "  [17.700117675954107, 9.993498769033744, 0],\n",
       "  [16.64801913208502, 10.334456121921008, 0],\n",
       "  [12.23195262718051, 10.791557426407623, 0],\n",
       "  [17.43109786429176, 9.831391584636288, 0],\n",
       "  [14.645051566449531, 9.634589253533075, 0],\n",
       "  [17.88166241386581, 8.667840306919517, 0],\n",
       "  [12.536571064313724, 8.141049829632243, 0]],\n",
       " [[0.14978043286674292, 3.5790095237385393, 1],\n",
       "  [4.865234174737921, 3.887599611668675, 1],\n",
       "  [2.626000787441108, 3.619543925341569, 1],\n",
       "  [3.7518698462602345, 3.345455219766756, 1],\n",
       "  [3.081622538092847, 2.8340556664766416, 1],\n",
       "  [4.950344094047531, 5.4261985466482425, 1],\n",
       "  [4.172606805097281, 5.043179881833842, 1],\n",
       "  [2.5862951814737922, 2.2819363952743523, 1],\n",
       "  [2.1680591667133786, 2.506728391993233, 1],\n",
       "  [1.9956983903149088, 4.006585836058591, 1],\n",
       "  [2.381876502131539, 3.9810495746651737, 1],\n",
       "  [4.2467674416409285, 5.734931464614688, 1],\n",
       "  [2.360284573366301, 2.9766021608519, 1],\n",
       "  [4.934676955545822, 4.294211881463242, 1],\n",
       "  [4.41854610726899, 5.019976992001205, 1],\n",
       "  [1.4759829416710724, 3.0802304860347762, 1],\n",
       "  [3.6465787833395953, 5.086168444662173, 1],\n",
       "  [2.967135896356323, 3.2325630800685667, 1],\n",
       "  [0.15502748042252545, 2.0638234568018876, 1],\n",
       "  [3.3585195260024188, 2.5058194527100617, 1]],\n",
       " [[6.395539204641378, 16.512217655027328, 2],\n",
       "  [8.47148342690472, 17.060351145186655, 2],\n",
       "  [8.468692832025678, 17.983434107453164, 2],\n",
       "  [6.638503379138886, 14.086875994278252, 2],\n",
       "  [10.891644525823441, 15.866021769716253, 2],\n",
       "  [7.229934130001033, 15.020023411993211, 2],\n",
       "  [6.7866016797914615, 14.58040649433792, 2],\n",
       "  [5.84739574531226, 17.58266394904314, 2],\n",
       "  [6.589642258983343, 16.47686013129564, 2],\n",
       "  [6.26738340501989, 17.181701850733322, 2],\n",
       "  [5.332528866085298, 14.898410744873884, 2],\n",
       "  [4.883722915828034, 14.207865051861578, 2],\n",
       "  [8.353256381765444, 14.977458210847914, 2],\n",
       "  [6.717563940432927, 16.375163126537743, 2],\n",
       "  [10.097451966116582, 14.72234094377439, 2],\n",
       "  [7.91214900675433, 15.141558891416636, 2],\n",
       "  [11.879591067602044, 15.92431207431409, 2],\n",
       "  [6.400430619136361, 17.199441527462938, 2],\n",
       "  [9.85251764839265, 14.891029669521693, 2],\n",
       "  [6.659735423716664, 15.323159949203632, 2]],\n",
       " [[6.395539204641378, 16.512217655027328, 2],\n",
       "  [8.47148342690472, 17.060351145186655, 2],\n",
       "  [8.468692832025678, 17.983434107453164, 2],\n",
       "  [6.638503379138886, 14.086875994278252, 2],\n",
       "  [10.891644525823441, 15.866021769716253, 2],\n",
       "  [7.229934130001033, 15.020023411993211, 2],\n",
       "  [6.7866016797914615, 14.58040649433792, 2],\n",
       "  [5.84739574531226, 17.58266394904314, 2],\n",
       "  [6.589642258983343, 16.47686013129564, 2],\n",
       "  [6.26738340501989, 17.181701850733322, 2],\n",
       "  [5.332528866085298, 14.898410744873884, 2],\n",
       "  [4.883722915828034, 14.207865051861578, 2],\n",
       "  [8.353256381765444, 14.977458210847914, 2],\n",
       "  [6.717563940432927, 16.375163126537743, 2],\n",
       "  [10.097451966116582, 14.72234094377439, 2],\n",
       "  [7.91214900675433, 15.141558891416636, 2],\n",
       "  [11.879591067602044, 15.92431207431409, 2],\n",
       "  [6.400430619136361, 17.199441527462938, 2],\n",
       "  [9.85251764839265, 14.891029669521693, 2],\n",
       "  [6.659735423716664, 15.323159949203632, 2]],\n",
       " [[6.395539204641378, 16.512217655027328, 2],\n",
       "  [8.47148342690472, 17.060351145186655, 2],\n",
       "  [8.468692832025678, 17.983434107453164, 2],\n",
       "  [6.638503379138886, 14.086875994278252, 2],\n",
       "  [10.891644525823441, 15.866021769716253, 2],\n",
       "  [7.229934130001033, 15.020023411993211, 2],\n",
       "  [6.7866016797914615, 14.58040649433792, 2],\n",
       "  [5.84739574531226, 17.58266394904314, 2],\n",
       "  [6.589642258983343, 16.47686013129564, 2],\n",
       "  [6.26738340501989, 17.181701850733322, 2],\n",
       "  [5.332528866085298, 14.898410744873884, 2],\n",
       "  [4.883722915828034, 14.207865051861578, 2],\n",
       "  [8.353256381765444, 14.977458210847914, 2],\n",
       "  [6.717563940432927, 16.375163126537743, 2],\n",
       "  [10.097451966116582, 14.72234094377439, 2],\n",
       "  [7.91214900675433, 15.141558891416636, 2],\n",
       "  [11.879591067602044, 15.92431207431409, 2],\n",
       "  [6.400430619136361, 17.199441527462938, 2],\n",
       "  [9.85251764839265, 14.891029669521693, 2],\n",
       "  [6.659735423716664, 15.323159949203632, 2]]]"
      ]
     },
     "execution_count": 1089,
     "metadata": {},
     "output_type": "execute_result"
    }
   ],
   "source": [
    "M=create_cluster_arrays(points,cluster_centers)\n",
    "M"
   ]
  },
  {
   "cell_type": "markdown",
   "id": "agreed-technical",
   "metadata": {},
   "source": [
    "# ISCRTAVANJE DOBIJENIH KLASTERA I NJIHOVIH CENTARA:"
   ]
  },
  {
   "cell_type": "code",
   "execution_count": 1090,
   "id": "immediate-stupid",
   "metadata": {},
   "outputs": [],
   "source": [
    "import matplotlib.pyplot as plt"
   ]
  },
  {
   "cell_type": "code",
   "execution_count": 1091,
   "id": "dental-reserve",
   "metadata": {},
   "outputs": [
    {
     "data": {
      "image/png": "[encoded data removed]",
      "text/plain": [
       "<Figure size 1152x504 with 1 Axes>"
      ]
     },
     "metadata": {
      "needs_background": "light"
     },
     "output_type": "display_data"
    }
   ],
   "source": [
    "fig,ax=plt.subplots(figsize=(16,7))\n",
    "colors=[\"red\",\"green\",\"black\",\"yellow\",\"blue\"]\n",
    "for i in range(num_clusters):\n",
    "    for j in range(len(M[i])):\n",
    "        plt.scatter(((M[i])[j])[0],((M[i])[j])[1],c=colors[i])\n",
    "\n",
    "for j in range(num_clusters):\n",
    "    plt.scatter((cluster_centers[j])[0],(cluster_centers[j])[1],c=\"orange\")"
   ]
  },
  {
   "cell_type": "code",
   "execution_count": null,
   "id": "express-fighter",
   "metadata": {},
   "outputs": [],
   "source": []
  },
  {
   "cell_type": "code",
   "execution_count": null,
   "id": "imported-twenty",
   "metadata": {},
   "outputs": [],
   "source": []
  },
  {
   "cell_type": "code",
   "execution_count": 996,
   "id": "provincial-christianity",
   "metadata": {},
   "outputs": [],
   "source": [
    "# points_tmp=points\n",
    "\n",
    "# for p in points_tmp:\n",
    "#     p.append(-1)\n",
    "    \n",
    "# #points_tmp[0].pop()\n",
    "# #del points_tmp[0][-1]\n",
    "# print(points_tmp[2][-1])\n",
    "# print(points)\n",
    "# print((points_tmp[2])[:-1])\n",
    "# print(points_tmp)\n"
   ]
  }
 ],
 "metadata": {
  "kernelspec": {
   "display_name": "Python 3",
   "language": "python",
   "name": "python3"
  },
  "language_info": {
   "codemirror_mode": {
    "name": "ipython",
    "version": 3
   },
   "file_extension": ".py",
   "mimetype": "text/x-python",
   "name": "python",
   "nbconvert_exporter": "python",
   "pygments_lexer": "ipython3",
   "version": "3.8.5"
  }
 },
 "nbformat": 4,
 "nbformat_minor": 5
}
