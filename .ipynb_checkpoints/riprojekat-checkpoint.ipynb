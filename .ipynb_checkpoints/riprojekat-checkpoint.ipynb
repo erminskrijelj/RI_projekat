{
 "cells": [
  {
   "cell_type": "code",
   "execution_count": 29,
   "id": "warming-gates",
   "metadata": {},
   "outputs": [],
   "source": [
    "import numpy as np\n",
    "import pandas as pd\n",
    "import random "
   ]
  },
  {
   "cell_type": "code",
   "execution_count": 30,
   "id": "identical-criticism",
   "metadata": {},
   "outputs": [],
   "source": [
    "import pygad\n",
    "import matplotlib.pyplot as plt"
   ]
  },
  {
   "cell_type": "code",
   "execution_count": 31,
   "id": "ab6de20d",
   "metadata": {},
   "outputs": [
    {
     "data": {
      "image/png": "[encoded data removed]",
      "text/plain": [
       "<Figure size 1152x504 with 1 Axes>"
      ]
     },
     "metadata": {
      "needs_background": "light"
     },
     "output_type": "display_data"
    }
   ],
   "source": [
    "cluster1_num_samples = 20\n",
    "cluster1_x1_start = 0\n",
    "cluster1_x1_end = 5\n",
    "cluster1_x2_start = 2\n",
    "cluster1_x2_end = 6\n",
    "cluster1_x3_start = 0\n",
    "cluster1_x3_end = 5\n",
    "cluster1_x1 = np.random.random(size=(cluster1_num_samples))\n",
    "cluster1_x1 = cluster1_x1 * (cluster1_x1_end - cluster1_x1_start) + cluster1_x1_start\n",
    "cluster1_x2 = np.random.random(size=(cluster1_num_samples))\n",
    "cluster1_x2 = cluster1_x2 * (cluster1_x2_end - cluster1_x2_start) + cluster1_x2_start\n",
    "cluster1_x3 = np.random.random(size=(cluster1_num_samples))\n",
    "cluster1_x3 = cluster1_x3 * (cluster1_x3_end - cluster1_x3_start) + cluster1_x3_start\n",
    "\n",
    "cluster2_num_samples = 20\n",
    "cluster2_x1_start = 4\n",
    "cluster2_x1_end = 12\n",
    "cluster2_x2_start = 14\n",
    "cluster2_x2_end = 18\n",
    "cluster2_x3_start = 0\n",
    "cluster2_x3_end = 5\n",
    "cluster2_x1 = np.random.random(size=(cluster2_num_samples))\n",
    "cluster2_x1 = cluster2_x1 * (cluster2_x1_end - cluster2_x1_start) + cluster2_x1_start\n",
    "cluster2_x2 = np.random.random(size=(cluster2_num_samples))\n",
    "cluster2_x2 = cluster2_x2 * (cluster2_x2_end - cluster2_x2_start) + cluster2_x2_start\n",
    "cluster2_x3 = np.random.random(size=(cluster2_num_samples))\n",
    "cluster2_x3 = cluster2_x3 * (cluster2_x3_end - cluster2_x3_start) + cluster2_x3_start\n",
    "\n",
    "cluster3_num_samples = 20\n",
    "cluster3_x1_start = 12\n",
    "cluster3_x1_end = 18\n",
    "cluster3_x2_start = 6\n",
    "cluster3_x2_end = 9\n",
    "cluster3_x3_start = 0\n",
    "cluster3_x3_end = 5\n",
    "cluster3_x1 = np.random.random(size=(cluster3_num_samples))\n",
    "cluster3_x1 = cluster3_x1 * (cluster3_x1_end - cluster3_x1_start) + cluster3_x1_start\n",
    "cluster3_x2 = np.random.random(size=(cluster3_num_samples))\n",
    "cluster3_x2 = cluster3_x2 * (cluster3_x2_end - cluster3_x2_start) + cluster3_x2_start\n",
    "cluster3_x3 = np.random.random(size=(cluster3_num_samples))\n",
    "cluster3_x3 = cluster3_x3 * (cluster3_x3_end - cluster3_x3_start) + cluster3_x3_start\n",
    "\n",
    "c1 = np.array([cluster1_x1, cluster1_x2, cluster1_x3]).T\n",
    "c2 = np.array([cluster2_x1, cluster2_x2, cluster2_x3]).T\n",
    "c3 = np.array([cluster3_x1, cluster3_x2, cluster3_x3]).T\n",
    "\n",
    "# c1 = np.array([cluster1_x1, cluster1_x2]).T\n",
    "# c2 = np.array([cluster2_x1, cluster2_x2]).T\n",
    "# c3 = np.array([cluster3_x1, cluster3_x2]).T\n",
    "\n",
    "\n",
    "data = np.concatenate((c1, c2, c3), axis=0)\n",
    "\n",
    "#fig,ax=plt.subplots(figsize=(16,7))\n",
    "\n",
    "#dodato\n",
    "fig=plt.figure(figsize=(16,7))\n",
    "ax=fig.add_subplot(111,projection='3d')\n",
    "ax.set_title(\"Klasterovanje tacaka genetskim algoritmom(3D): \")\n",
    "ax.set_xlabel(\"x\")\n",
    "ax.set_ylabel(\"y\")\n",
    "ax.set_zlabel(\"z\")\n",
    "#dodato_kraj \n",
    "ax.scatter(cluster1_x1, cluster1_x2, cluster1_x3)\n",
    "ax.scatter(cluster2_x1, cluster2_x2, cluster2_x3)\n",
    "ax.scatter(cluster3_x1, cluster3_x2, cluster3_x3)\n",
    "\n",
    "# plt.scatter(cluster1_x1, cluster1_x2)\n",
    "# plt.scatter(cluster2_x1, cluster2_x2)\n",
    "# plt.scatter(cluster3_x1, cluster3_x2)\n",
    "\n",
    "plt.title(\"Optimal Clustering\")\n",
    "plt.show()\n",
    "\n",
    "\n",
    "\n",
    "\n"
   ]
  },
  {
   "cell_type": "code",
   "execution_count": 32,
   "id": "600a4cc4",
   "metadata": {},
   "outputs": [],
   "source": [
    "points0=data.tolist()\n",
    "\n",
    "\n",
    "# za cuvanje random tacaka\n",
    "\n",
    "# with open(r'savedInput1.txt', 'w') as fp:\n",
    "#     for item in points0:\n",
    "#         # write each item on a new line\n",
    "#         fp.write(\"%s\\n\" % item)\n",
    "#     print('Done')\n",
    "\n",
    "points0"
   ]
  },
  {
   "cell_type": "markdown",
   "id": "modular-mason",
   "metadata": {},
   "source": [
    "# Reprezentacija jedinke:"
   ]
  },
  {
   "cell_type": "code",
   "execution_count": 33,
   "id": "about-thing",
   "metadata": {},
   "outputs": [],
   "source": [
    "class Individual:\n",
    "    def __init__(self,points,num_clusters):\n",
    "        #inicijalizujemo jedinke kao listu slucajnoodabranih tacaka duzine broja klastera:\n",
    "        self.code=[points[random.randrange(len(points))] for _ in range(num_clusters)] \n",
    "        self.fitness = self.calcFitness(points,num_clusters)\n",
    "        #self.centroids=self.calculateCentroids(points)\n",
    "        \n",
    "    def __lt__(self, other):\n",
    "        return self.fitness < other.fitness\n",
    "    \n",
    "    \n",
    "    def ed(self,a,b):\n",
    "        a=np.array(a)\n",
    "        b=np.array(b)\n",
    "        dist=np.linalg.norm(a-b)\n",
    "        \n",
    "        return dist\n",
    "    #odredjuje kom klasteru pripada tacka point:\n",
    "    def cluster_id(self,point,centers):\n",
    "        d=float('inf')\n",
    "        index=-1\n",
    "        best_d=float('inf')\n",
    "        \n",
    "        for i,c in enumerate(centers):\n",
    "            new_d=self.ed(point,c)\n",
    "            if new_d<best_d:\n",
    "                best_d=new_d\n",
    "                index=i\n",
    "   \n",
    "        return index\n",
    "        \n",
    "    def sse_partial(self,points,cluster_index):\n",
    "        #s=0\n",
    "        sc=0\n",
    "        \n",
    "        for p in points:\n",
    "            if self.cluster_id(p,self.code)==cluster_index:\n",
    "                sc+=(self.ed(p,self.code[cluster_index]))**2\n",
    "                #if p[-1]==cluster_index:\n",
    "            \n",
    "        return sc\n",
    "    \n",
    "    #SSE(Sum squared error)-metrika koju koristimo za racunanje fitness-a\n",
    "    def sse(self,points,num_clusters):\n",
    "        s=0\n",
    "        for k in range(num_clusters):\n",
    "            s+=self.sse_partial(points,k)\n",
    "        \n",
    "        return s\n",
    "   \n",
    "\n",
    "    def calcFitness(self,points,num_clusters):\n",
    "        \n",
    "        error=self.sse(points,num_clusters)\n",
    "        fitness=1/error\n",
    "        \n",
    "        return fitness\n"
   ]
  },
  {
   "cell_type": "code",
   "execution_count": 34,
   "id": "synthetic-sitting",
   "metadata": {},
   "outputs": [],
   "source": [
    "def readFile(filename):\n",
    "    with open(filename, 'r') as f:\n",
    "        num_points,dim=[int(x) for x in f.readline().split()]\n",
    "        points=[[float(x) for x in f.readline().split()] for _ in range(num_points)]\n",
    "        return points"
   ]
  },
  {
   "cell_type": "code",
   "execution_count": 35,
   "id": "general-differential",
   "metadata": {},
   "outputs": [],
   "source": [
    "# points=readFile(\"input2.txt\")\n",
    "# points=readFile(\"input3.txt\")"
   ]
  },
  {
   "cell_type": "code",
   "execution_count": 36,
   "id": "883933ce",
   "metadata": {},
   "outputs": [],
   "source": [
    "# points"
   ]
  },
  {
   "cell_type": "code",
   "execution_count": null,
   "id": "3d8254fb",
   "metadata": {},
   "outputs": [],
   "source": [
    "import copy\n",
    "\n",
    "points = points0.copy()\n",
    "points1 = copy.deepcopy(points0)"
   ]
  },
  {
   "cell_type": "code",
   "execution_count": 37,
   "id": "bulgarian-simon",
   "metadata": {},
   "outputs": [
    {
     "name": "stdout",
     "output_type": "stream",
     "text": [
      "9 3\n"
     ]
    }
   ],
   "source": [
    "num_points=len(points)\n",
    "num_dimensions=len(points[0])\n",
    "print(num_points,num_dimensions)"
   ]
  },
  {
   "cell_type": "code",
   "execution_count": 38,
   "id": "dimensional-korean",
   "metadata": {},
   "outputs": [],
   "source": [
    "#Eucledian distance-Euklidsko rastojanje\n",
    "def ed(a,b):\n",
    "    a=np.array(a)\n",
    "    b=np.array(b)\n",
    "    dist=np.linalg.norm(a-b)\n",
    "    return dist"
   ]
  },
  {
   "cell_type": "code",
   "execution_count": 39,
   "id": "southern-coating",
   "metadata": {},
   "outputs": [
    {
     "name": "stdout",
     "output_type": "stream",
     "text": [
      "5.323532661682466\n"
     ]
    }
   ],
   "source": [
    "print(ed(points[1],points[2]))"
   ]
  },
  {
   "cell_type": "code",
   "execution_count": 40,
   "id": "special-guinea",
   "metadata": {},
   "outputs": [],
   "source": [
    "def cluster_id(point,centers):\n",
    "    d=float('inf')\n",
    "    index=-1\n",
    "    best_d=float('inf')\n",
    "    for i,c in enumerate(centers):\n",
    "        new_d=ed(point,c)\n",
    "        if new_d<best_d:\n",
    "            best_d=new_d\n",
    "            index=i\n",
    "            \n",
    "    return index"
   ]
  },
  {
   "cell_type": "code",
   "execution_count": 41,
   "id": "immediate-visiting",
   "metadata": {},
   "outputs": [],
   "source": [
    "def crossover(parent1,parent2,child1,child2):\n",
    "    breakpoint = random.randrange(len(parent1.code))\n",
    "    \n",
    "    child1.code[:breakpoint] = parent1.code[:breakpoint]\n",
    "    child2.code[:breakpoint] = parent2.code[:breakpoint]\n",
    "    \n",
    "    child1.code[breakpoint:] = parent2.code[breakpoint:]\n",
    "    child2.code[breakpoint:] = parent1.code[breakpoint:]\n",
    "    \n",
    "    #print(breakpoint)"
   ]
  },
  {
   "cell_type": "code",
   "execution_count": 42,
   "id": "fabulous-breakdown",
   "metadata": {},
   "outputs": [],
   "source": [
    "def selection(population):\n",
    "    \n",
    "    TOURNAMENT_SIZE = 5\n",
    "    bestFitness = float('-inf')\n",
    "    index = -1\n",
    "    for i in range(TOURNAMENT_SIZE):\n",
    "        randomIndividual = random.randrange(len(population))\n",
    "        if population[randomIndividual].fitness > bestFitness:\n",
    "            bestFitness = population[randomIndividual].fitness\n",
    "            index = randomIndividual\n",
    "    return index\n",
    "    \n",
    "    \n",
    "    #biramo random predstavnika za svaki klaster\n",
    "    #koji ce se vremenom unaprediti i tako ce napredovati ceo proces"
   ]
  },
  {
   "cell_type": "code",
   "execution_count": 43,
   "id": "blank-danish",
   "metadata": {},
   "outputs": [],
   "source": [
    "def mutation(individual):\n",
    "    #alfa=random vrednost kojom ce se za neki vektor pomeriti trenutni centar klastera\n",
    "    #c_a =random int koji uz alfa utice na pomeraj centra\n",
    "    #kao parametar/verovatnocu mutacije uzimamo 5% (MUTATION_RATE=0.05)\n",
    "    MUTATION_PROB=0.05\n",
    "    \n",
    "    for i in range(len(individual.code)):\n",
    "        l=np.array(individual.code[i])\n",
    "        alpha=random.uniform(0,1)\n",
    "        c_a=random.randint(0,3)\n",
    "        znak=random.uniform(0,1)\n",
    "        if random.random()<MUTATION_PROB:\n",
    "            if znak>=0.5:\n",
    "                l=l+(alpha*c_a)\n",
    "                l=np.round(l,2)\n",
    "                individual.code[i]=l.tolist()\n",
    "            else:\n",
    "                l=l - (alpha*c_a)\n",
    "                l=np.round(l,2)\n",
    "                individual.code[i]=l.tolist()\n",
    "    "
   ]
  },
  {
   "cell_type": "code",
   "execution_count": 44,
   "id": "mounted-junior",
   "metadata": {},
   "outputs": [],
   "source": [
    "# points=data.tolist()"
   ]
  },
  {
   "cell_type": "markdown",
   "id": "contained-platform",
   "metadata": {},
   "source": [
    "# Parametri genetskog algoritma:\n"
   ]
  },
  {
   "cell_type": "code",
   "execution_count": 45,
   "id": "found-photography",
   "metadata": {},
   "outputs": [],
   "source": [
    "POPULATION_SIZE = 50\n",
    "NUM_GENERATIONS = 30\n",
    "ELITISIM_SIZE = POPULATION_SIZE // 5\n",
    "num_clusters=3"
   ]
  },
  {
   "cell_type": "code",
   "execution_count": 46,
   "id": "statistical-correspondence",
   "metadata": {},
   "outputs": [
    {
     "name": "stdout",
     "output_type": "stream",
     "text": [
      "solution: [[4.08, 4.88, 5.08], [7.78, 3.68, 2.38], [3.32, 2.42, 3.12]], fitness: 0.030760901663549563\n"
     ]
    }
   ],
   "source": [
    "\n",
    "population = [Individual(points,num_clusters) for _ in range(POPULATION_SIZE)]\n",
    "newPopulation = [Individual(points,num_clusters) for _ in range(POPULATION_SIZE)]\n",
    "\n",
    "for i in range(NUM_GENERATIONS):\n",
    "    population.sort(reverse=True)\n",
    "    newPopulation[:ELITISIM_SIZE] = population[:ELITISIM_SIZE]\n",
    "    \n",
    "    for j in range(ELITISIM_SIZE, POPULATION_SIZE, 2):\n",
    "        \n",
    "        parent1Index = selection(population)\n",
    "        parent2Index = selection(population)\n",
    "        \n",
    "        crossover(population[parent1Index], population[parent2Index], newPopulation[j], newPopulation[j+1])\n",
    "        \n",
    "        #print(j)\n",
    "        #print(population[parent1Index].code)\n",
    "        #print(population[parent2Index].code)\n",
    "        mutation(newPopulation[j])\n",
    "        mutation(newPopulation[j+1])\n",
    "        \n",
    "        newPopulation[j].fitness = newPopulation[j].calcFitness(points,num_clusters)\n",
    "        newPopulation[j+1].fitness = newPopulation[j+1].calcFitness(points,num_clusters)\n",
    "        \n",
    "#         print(j)\n",
    "#         print(newPopulation[j].code)\n",
    "#         print(newPopulation[j+1].code)\n",
    "#         print()\n",
    "#         print()\n",
    "        \n",
    "    population = newPopulation\n",
    "\n",
    "    \n",
    "bestIndividual = max(population)\n",
    "print(f'solution: {bestIndividual.code}, fitness: {bestIndividual.fitness}')"
   ]
  },
  {
   "cell_type": "code",
   "execution_count": 47,
   "id": "05ce3a7a",
   "metadata": {},
   "outputs": [
    {
     "data": {
      "text/plain": [
       "[[4.08, 4.88, 5.08], [7.78, 3.68, 2.38], [3.32, 2.42, 3.12]]"
      ]
     },
     "execution_count": 47,
     "metadata": {},
     "output_type": "execute_result"
    }
   ],
   "source": [
    "cluster_centers=copy.deepcopy(bestIndividual.code)\n",
    "\n",
    "print(cluster_centers,bestIndividual.code)\n",
    "# ovo sam nesto namestao ali nije potrebno\n",
    "\n",
    "# c2 = cluster_centers[2]\n",
    "# c1 = cluster_centers[1]\n",
    "# cluster_centers[1] = c2\n",
    "# cluster_centers[2] = c1\n"
   ]
  },
  {
   "cell_type": "code",
   "execution_count": 48,
   "id": "involved-benefit",
   "metadata": {},
   "outputs": [],
   "source": [
    "#Svakoj tacki skupa Points dodajemo kao poslednji element redni nroj klastera kome bi trebalo da odgovaraju\n",
    "def assign_center(points,centers):\n",
    "    best_d=float(\"inf\")\n",
    "    ind=-1\n",
    "    n=len(points[0])\n",
    "    \n",
    "    for p in points:\n",
    "        best_d=float('inf')\n",
    "        for j,c in enumerate(centers):\n",
    "            if(len(p)==n and len(c)==n):\n",
    "                d_new=ed(p,c)\n",
    "            \n",
    "                if d_new<best_d:\n",
    "                    ind=j\n",
    "                    best_d=d_new    \n",
    "                    \n",
    "        p.append(ind)\n",
    "        "
   ]
  },
  {
   "cell_type": "code",
   "execution_count": 49,
   "id": "ultimate-elizabeth",
   "metadata": {},
   "outputs": [
    {
     "name": "stdout",
     "output_type": "stream",
     "text": [
      "[2.2, 2.1, 3.7] [3.7, 2.8, 3.5]\n"
     ]
    }
   ],
   "source": [
    "print(points[0],points[-1])\n"
   ]
  },
  {
   "cell_type": "code",
   "execution_count": 50,
   "id": "varying-imperial",
   "metadata": {},
   "outputs": [],
   "source": [
    "assign_center(points,cluster_centers)\n",
    "# points"
   ]
  },
  {
   "cell_type": "code",
   "execution_count": 51,
   "id": "capital-retrieval",
   "metadata": {},
   "outputs": [
    {
     "name": "stdout",
     "output_type": "stream",
     "text": [
      "[2.2, 2.1, 3.7, 2] [3.7, 2.8, 3.5, 2]\n"
     ]
    }
   ],
   "source": [
    "print(points[0],points[-1])\n"
   ]
  },
  {
   "cell_type": "code",
   "execution_count": 52,
   "id": "polish-bowling",
   "metadata": {},
   "outputs": [],
   "source": [
    "#pravimo matricu u kojoj svaki red predstavlja listu tacaka za svaki klaster redom\n",
    "def create_cluster_arrays(points,centers):\n",
    "    a=[]\n",
    "    b=[]\n",
    "    c=[]\n",
    "    M=[]\n",
    "    num_clusters=len(centers)\n",
    "    for p in points:\n",
    "        if p[-1]==0:\n",
    "            a.append(p)\n",
    "    \n",
    "    #a=np.array(a)\n",
    "    \n",
    "    for p in points:\n",
    "        if p[-1]==1:\n",
    "            b.append(p)\n",
    "    \n",
    "    #b=np.array(a)\n",
    "#     M=np.vstack((a,b))\n",
    "    M.append(a)\n",
    "    M.append(b)\n",
    "    \n",
    "    for i in range(2,num_clusters): \n",
    "        c.clear()\n",
    "        for p in points:\n",
    "            if p[-1]==i and i!=0 and i!=1:\n",
    "                c.append(p)\n",
    "#         c=np.array(c)        \n",
    "        M.append(c)\n",
    "    \n",
    "    return M"
   ]
  },
  {
   "cell_type": "code",
   "execution_count": 53,
   "id": "threaded-protocol",
   "metadata": {},
   "outputs": [
    {
     "data": {
      "text/plain": [
       "[[3.4, 5.6, 2.4, 0], [5.1, 3.9, 7.2, 0], [4.3, 5.1, 5.3, 0]]"
      ]
     },
     "execution_count": 53,
     "metadata": {},
     "output_type": "execute_result"
    }
   ],
   "source": [
    "M=create_cluster_arrays(points,cluster_centers)\n",
    "M"
   ]
  },
  {
   "cell_type": "markdown",
   "id": "agreed-technical",
   "metadata": {},
   "source": [
    "# ISCRTAVANJE DOBIJENIH KLASTERA I NJIHOVIH CENTARA:"
   ]
  },
  {
   "cell_type": "code",
   "execution_count": 54,
   "id": "immediate-stupid",
   "metadata": {},
   "outputs": [],
   "source": [
    "import matplotlib.pyplot as plt"
   ]
  },
  {
   "cell_type": "code",
   "execution_count": 55,
   "id": "dental-reserve",
   "metadata": {},
   "outputs": [
    {
     "data": {
      "image/png": "[encoded data removed]",
      "text/plain": [
       "<Figure size 1152x504 with 1 Axes>"
      ]
     },
     "metadata": {
      "needs_background": "light"
     },
     "output_type": "display_data"
    }
   ],
   "source": [
    "if num_dimensions==2:\n",
    "    fig,ax=plt.subplots(figsize=(16,7))\n",
    "    ax.set_title(\"Klasterovanje tacaka genetskim algoritmom(2D): \")\n",
    "    ax.set_xlabel(\"x\")\n",
    "    ax.set_ylabel(\"y\")\n",
    "    \n",
    "    colors=[\"red\",\"green\",\"black\",\"yellow\",\"blue\"]\n",
    "    for i in range(len(M)):\n",
    "        for j in range(len(M[i])):\n",
    "            plt.scatter(((M[i])[j])[0],((M[i])[j])[1],c=colors[i])\n",
    "\n",
    "    for j in range(num_clusters):\n",
    "        plt.scatter((cluster_centers[j])[0],(cluster_centers[j])[1],c=\"orange\",marker=\"x\")\n",
    "        \n",
    "elif num_dimensions==3:\n",
    "    fig=plt.figure(figsize=(16,7))\n",
    "    ax=fig.add_subplot(111,projection='3d')\n",
    "    ax.set_title(\"Klasterovanje tacaka genetskim algoritmom(3D): \")\n",
    "    ax.set_xlabel(\"x\")\n",
    "    ax.set_ylabel(\"y\")\n",
    "    ax.set_zlabel(\"z\")\n",
    "    colors=[\"red\",\"green\",\"black\",\"yellow\",\"blue\"]\n",
    "    for i in range(len(M)):\n",
    "        for j in range(len(M[i])):\n",
    "            ax.scatter(((M[i])[j])[0],((M[i])[j])[1],((M[i])[j])[2],c=colors[i])\n",
    "\n",
    "    for j in range(num_clusters):\n",
    "        ax.scatter((cluster_centers[j])[0],(cluster_centers[j])[1],(cluster_centers[j])[2],c=\"orange\",marker=\"x\")"
   ]
  },
  {
   "cell_type": "code",
   "execution_count": null,
   "id": "express-fighter",
   "metadata": {},
   "outputs": [],
   "source": []
  },
  {
   "cell_type": "code",
   "execution_count": null,
   "id": "imported-twenty",
   "metadata": {},
   "outputs": [],
   "source": []
  },
  {
   "cell_type": "code",
   "execution_count": 56,
   "id": "provincial-christianity",
   "metadata": {},
   "outputs": [],
   "source": [
    "# points_tmp=points\n",
    "\n",
    "# for p in points_tmp:\n",
    "#     p.append(-1)\n",
    "    \n",
    "# #points_tmp[0].pop()\n",
    "# #del points_tmp[0][-1]\n",
    "# print(points_tmp[2][-1])\n",
    "# print(points)\n",
    "# print((points_tmp[2])[:-1])\n",
    "# print(points_tmp)\n"
   ]
  }
 ],
 "metadata": {
  "kernelspec": {
   "display_name": "Python 3 (ipykernel)",
   "language": "python",
   "name": "python3"
  },
  "language_info": {
   "codemirror_mode": {
    "name": "ipython",
    "version": 3
   },
   "file_extension": ".py",
   "mimetype": "text/x-python",
   "name": "python",
   "nbconvert_exporter": "python",
   "pygments_lexer": "ipython3",
   "version": "3.10.4"
  }
 },
 "nbformat": 4,
 "nbformat_minor": 5
}
