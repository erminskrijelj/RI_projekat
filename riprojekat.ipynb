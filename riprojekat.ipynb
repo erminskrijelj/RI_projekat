{
 "cells": [
  {
   "cell_type": "code",
   "execution_count": 1,
   "id": "warming-gates",
   "metadata": {},
   "outputs": [],
   "source": [
    "import numpy as np\n",
    "import pandas as pd\n",
    "import random "
   ]
  },
  {
   "cell_type": "code",
   "execution_count": 2,
   "id": "about-thing",
   "metadata": {},
   "outputs": [],
   "source": [
    "class Individual:\n",
    "    def __init__(self, cost, fixedCost):\n",
    "        self.correctNonFeasible()        \n",
    "        self.fitness = self.calcFitness(cost, fixedCost)\n",
    "        \n",
    "    def __lt__(self, other):\n",
    "        return self.fitness < other.fitness\n",
    "    \n",
    "#     def isFeasible(self):\n",
    "#         for c in self.code:\n",
    "#             if c:\n",
    "#                 return True\n",
    "#         return False\n",
    "    \n",
    "#     def invert(self):\n",
    "#         # 100 -> 000 -> 010\n",
    "#         randomResource = random.randrange(len(self.code))\n",
    "#         self.code[randomResource] = not self.code[randomResource]\n",
    "#         if self.isFeasible():\n",
    "#             return randomResource\n",
    "#         else:\n",
    "#             return -1\n",
    "    \n",
    "    def correctNonFeasible(self):\n",
    "        for c in self.code:\n",
    "            if c:\n",
    "                return\n",
    "        randomResource = random.randrange(len(self.code))\n",
    "        self.code[randomResource] = True\n",
    "        \n",
    "    def calcFitness(self, cost, fixedCost):\n",
    "        numUsers = len(cost)\n",
    "        numResources = len(fixedCost)\n",
    "        usedResources = [False for _ in range(numResources)]\n",
    "        totalCost = 0\n",
    "        for i in range(numUsers):\n",
    "            minCost = float('inf')\n",
    "            resourceUsed = -1\n",
    "            for j in range(numResources):\n",
    "                if cost[i][j] < minCost and self.code[j]:\n",
    "                    minCost = cost[i][j]\n",
    "                    resourceUsed = j\n",
    "            totalCost += minCost\n",
    "            usedResources[resourceUsed] = True\n",
    "        # True, False, True -> True, False, False\n",
    "        \n",
    "        self.code = usedResources\n",
    "        \n",
    "        for j, resource in enumerate(self.code):\n",
    "            if resource:\n",
    "                totalCost += fixedCost[j]\n",
    "        \n",
    "        fitness = 1 / totalCost\n",
    "        return fitness"
   ]
  },
  {
   "cell_type": "code",
   "execution_count": 12,
   "id": "southwest-equation",
   "metadata": {},
   "outputs": [],
   "source": [
    "class Points:    \n",
    "    def __init__(self, x, y):\n",
    "        '''Defines x and y variables'''\n",
    "        self.X = x\n",
    "        self.Y = y\n",
    "\n",
    "    def move(self, dx, dy):\n",
    "        '''Determines where x and y move'''\n",
    "        self.X = self.X + dx\n",
    "        self.Y = self.Y + dy\n",
    "\n",
    "    def __str__(self):\n",
    "        return \"Point(%s,%s)\"%(self.X, self.Y) \n",
    "\n",
    "    def getX(self):\n",
    "        return self.X\n",
    "\n",
    "    def getY(self):\n",
    "        return self.Y\n",
    "\n",
    "    def distance(self, other):\n",
    "        dx = self.X - other.X\n",
    "        dy = self.Y - other.Y\n",
    "        return math.sqrt(dx**2 + dy**2)\n",
    "\n",
    "#     def testPoint(x=0,y=0):\n",
    "#         '''Returns a point and distance'''\n",
    "#         p1 = Point(3, 4)\n",
    "#         print p1\n",
    "#         p2 = Point(3,0)\n",
    "#         print p2\n",
    "#         return math.hypot(dx, dy)\n",
    "\n",
    "#     print \"distance = %s\"%(testPoint()) \n",
    "    "
   ]
  },
  {
   "cell_type": "code",
   "execution_count": 15,
   "id": "synthetic-sitting",
   "metadata": {},
   "outputs": [],
   "source": [
    "def readFile(filename):\n",
    "    with open(filename, 'r') as f:\n",
    "        data=f.read()\n",
    "        return data"
   ]
  },
  {
   "cell_type": "code",
   "execution_count": 16,
   "id": "general-differential",
   "metadata": {},
   "outputs": [],
   "source": [
    "\n",
    "data=readFile(\"input.txt\")"
   ]
  },
  {
   "cell_type": "code",
   "execution_count": 17,
   "id": "bulgarian-simon",
   "metadata": {},
   "outputs": [
    {
     "data": {
      "text/plain": [
       "'1.2 2.1 \\n3.4 5.6\\n7.8 2.9'"
      ]
     },
     "execution_count": 17,
     "metadata": {},
     "output_type": "execute_result"
    }
   ],
   "source": [
    "data"
   ]
  },
  {
   "cell_type": "code",
   "execution_count": 19,
   "id": "immediate-visiting",
   "metadata": {},
   "outputs": [],
   "source": [
    "def crossover(parent1,parent2,chil1,child2):\n",
    "    #[(1,2),(3,4),(5,6)]\n",
    "    #breakpoint random broj[0,len(self.code)]\n",
    "    #mora da bude Deljivo sa 2!!!\n",
    "    return None"
   ]
  },
  {
   "cell_type": "code",
   "execution_count": 22,
   "id": "fabulous-breakdown",
   "metadata": {},
   "outputs": [],
   "source": [
    "def selection():\n",
    "    #biramo random predstavnika za svaki klaster\n",
    "    #koji ce se vremenom unaprediti i tako ce napredovati ceo proces\n",
    "    return None"
   ]
  },
  {
   "cell_type": "code",
   "execution_count": 21,
   "id": "blank-danish",
   "metadata": {},
   "outputs": [],
   "source": [
    "def mutation():\n",
    "    #alfa=random pomeraj za neki vektor ([0,1],[0,1])\n",
    "    #njega doddajemo vrednosti izabrane tacke(jedinke)\n",
    "    return None"
   ]
  },
  {
   "cell_type": "code",
   "execution_count": null,
   "id": "gothic-prerequisite",
   "metadata": {},
   "outputs": [],
   "source": []
  }
 ],
 "metadata": {
  "kernelspec": {
   "display_name": "Python 3",
   "language": "python",
   "name": "python3"
  },
  "language_info": {
   "codemirror_mode": {
    "name": "ipython",
    "version": 3
   },
   "file_extension": ".py",
   "mimetype": "text/x-python",
   "name": "python",
   "nbconvert_exporter": "python",
   "pygments_lexer": "ipython3",
   "version": "3.8.5"
  }
 },
 "nbformat": 4,
 "nbformat_minor": 5
}
