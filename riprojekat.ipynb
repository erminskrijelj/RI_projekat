{
 "cells": [
  {
   "cell_type": "code",
   "execution_count": 285,
   "id": "warming-gates",
   "metadata": {},
   "outputs": [],
   "source": [
    "import numpy as np\n",
    "import pandas as pd\n",
    "import random "
   ]
  },
  {
   "cell_type": "code",
   "execution_count": 286,
   "id": "identical-criticism",
   "metadata": {},
   "outputs": [],
   "source": [
    "import pygad\n",
    "import matplotlib.pyplot as plt"
   ]
  },
  {
   "cell_type": "code",
   "execution_count": 287,
   "id": "ab6de20d",
   "metadata": {},
   "outputs": [
    {
     "data": {
      "image/png": "[encoded data removed]",
      "text/plain": [
       "<Figure size 1152x504 with 1 Axes>"
      ]
     },
     "metadata": {
      "needs_background": "light"
     },
     "output_type": "display_data"
    }
   ],
   "source": [
    "cluster1_num_samples = 20\n",
    "cluster1_x1_start = 0\n",
    "cluster1_x1_end = 5\n",
    "cluster1_x2_start = 2\n",
    "cluster1_x2_end = 6\n",
    "cluster1_x1 = np.random.random(size=(cluster1_num_samples))\n",
    "cluster1_x1 = cluster1_x1 * (cluster1_x1_end - cluster1_x1_start) + cluster1_x1_start\n",
    "cluster1_x2 = np.random.random(size=(cluster1_num_samples))\n",
    "cluster1_x2 = cluster1_x2 * (cluster1_x2_end - cluster1_x2_start) + cluster1_x2_start\n",
    "\n",
    "cluster2_num_samples = 20\n",
    "cluster2_x1_start = 4\n",
    "cluster2_x1_end = 12\n",
    "cluster2_x2_start = 14\n",
    "cluster2_x2_end = 18\n",
    "cluster2_x1 = np.random.random(size=(cluster2_num_samples))\n",
    "cluster2_x1 = cluster2_x1 * (cluster2_x1_end - cluster2_x1_start) + cluster2_x1_start\n",
    "cluster2_x2 = np.random.random(size=(cluster2_num_samples))\n",
    "cluster2_x2 = cluster2_x2 * (cluster2_x2_end - cluster2_x2_start) + cluster2_x2_start\n",
    "\n",
    "cluster3_num_samples = 20\n",
    "cluster3_x1_start = 12\n",
    "cluster3_x1_end = 18\n",
    "cluster3_x2_start = 8\n",
    "cluster3_x2_end = 11\n",
    "cluster3_x1 = np.random.random(size=(cluster3_num_samples))\n",
    "cluster3_x1 = cluster3_x1 * (cluster3_x1_end - cluster3_x1_start) + cluster3_x1_start\n",
    "cluster3_x2 = np.random.random(size=(cluster3_num_samples))\n",
    "cluster3_x2 = cluster3_x2 * (cluster3_x2_end - cluster3_x2_start) + cluster3_x2_start\n",
    "\n",
    "c1 = np.array([cluster1_x1, cluster1_x2]).T\n",
    "c2 = np.array([cluster2_x1, cluster2_x2]).T\n",
    "c3 = np.array([cluster3_x1, cluster3_x2]).T\n",
    "\n",
    "data = np.concatenate((c1, c2, c3), axis=0)\n",
    "\n",
    "fig,ax=plt.subplots(figsize=(16,7))\n",
    "\n",
    "plt.scatter(cluster1_x1, cluster1_x2)\n",
    "plt.scatter(cluster2_x1, cluster2_x2)\n",
    "plt.scatter(cluster3_x1, cluster3_x2)\n",
    "plt.title(\"Optimal Clustering\")\n",
    "plt.show()\n"
   ]
  },
  {
   "cell_type": "code",
   "execution_count": 288,
   "id": "600a4cc4",
   "metadata": {},
   "outputs": [],
   "source": [
    "points=data.tolist()"
   ]
  },
  {
   "cell_type": "markdown",
   "id": "modular-mason",
   "metadata": {},
   "source": [
    "# Reprezentacija jedinke:"
   ]
  },
  {
   "cell_type": "code",
   "execution_count": 289,
   "id": "about-thing",
   "metadata": {},
   "outputs": [],
   "source": [
    "class Individual:\n",
    "    def __init__(self,points,num_clusters):\n",
    "        #inicijalizujemo jedinke kao listu slucajnoodabranih tacaka duzine broja klastera:\n",
    "        self.code=[points[random.randrange(len(points))] for _ in range(num_clusters)] \n",
    "        self.fitness = self.calcFitness(points,num_clusters)\n",
    "        #self.centroids=self.calculateCentroids(points)\n",
    "        \n",
    "    def __lt__(self, other):\n",
    "        return self.fitness < other.fitness\n",
    "    \n",
    "    \n",
    "    def ed(self,a,b):\n",
    "        a=np.array(a)\n",
    "        b=np.array(b)\n",
    "        dist=np.linalg.norm(a-b)\n",
    "        \n",
    "        return dist\n",
    "    #odredjuje kom klasteru pripada tacka point:\n",
    "    def cluster_id(self,point,centers):\n",
    "        d=float('inf')\n",
    "        index=-1\n",
    "        best_d=float('inf')\n",
    "        \n",
    "        for i,c in enumerate(centers):\n",
    "            new_d=self.ed(point,c)\n",
    "            if new_d<best_d:\n",
    "                best_d=new_d\n",
    "                index=i\n",
    "   \n",
    "        return index\n",
    "        \n",
    "    def sse_partial(self,points,cluster_index):\n",
    "        #s=0\n",
    "        sc=0\n",
    "        \n",
    "        for p in points:\n",
    "            if self.cluster_id(p,self.code)==cluster_index:\n",
    "                sc+=(self.ed(p,self.code[cluster_index]))**2\n",
    "                #if p[-1]==cluster_index:\n",
    "            \n",
    "        return sc\n",
    "    \n",
    "    #SSE(Sum squared error)-metrika koju koristimo za racunanje fitness-a\n",
    "    def sse(self,points,num_clusters):\n",
    "        s=0\n",
    "        for k in range(num_clusters):\n",
    "            s+=self.sse_partial(points,k)\n",
    "        \n",
    "        return s\n",
    "   \n",
    "\n",
    "    def calcFitness(self,points,num_clusters):\n",
    "        \n",
    "        error=self.sse(points,num_clusters)\n",
    "        fitness=1/error\n",
    "        \n",
    "        return fitness\n"
   ]
  },
  {
   "cell_type": "code",
   "execution_count": 290,
   "id": "synthetic-sitting",
   "metadata": {},
   "outputs": [],
   "source": [
    "def readFile(filename):\n",
    "    with open(filename, 'r') as f:\n",
    "        num_points,dim=[int(x) for x in f.readline().split()]\n",
    "        points=[[float(x) for x in f.readline().split()] for _ in range(num_points)]\n",
    "        return points"
   ]
  },
  {
   "cell_type": "code",
   "execution_count": 291,
   "id": "general-differential",
   "metadata": {},
   "outputs": [],
   "source": [
    "# points=readFile(\"input2.txt\")\n",
    "# points=readFile(\"input3.txt\")"
   ]
  },
  {
   "cell_type": "code",
   "execution_count": 292,
   "id": "883933ce",
   "metadata": {},
   "outputs": [],
   "source": [
    "# points"
   ]
  },
  {
   "cell_type": "code",
   "execution_count": 293,
   "id": "bulgarian-simon",
   "metadata": {},
   "outputs": [
    {
     "name": "stdout",
     "output_type": "stream",
     "text": [
      "60 2\n"
     ]
    }
   ],
   "source": [
    "num_points=len(points)\n",
    "num_dimensions=len(points[0])\n",
    "print(num_points,num_dimensions)"
   ]
  },
  {
   "cell_type": "code",
   "execution_count": 294,
   "id": "dimensional-korean",
   "metadata": {},
   "outputs": [],
   "source": [
    "#Eucledian distance-Euklidsko rastojanje\n",
    "def ed(a,b):\n",
    "    a=np.array(a)\n",
    "    b=np.array(b)\n",
    "    dist=np.linalg.norm(a-b)\n",
    "    return dist"
   ]
  },
  {
   "cell_type": "code",
   "execution_count": 295,
   "id": "southern-coating",
   "metadata": {},
   "outputs": [
    {
     "name": "stdout",
     "output_type": "stream",
     "text": [
      "4.569129874172381\n"
     ]
    }
   ],
   "source": [
    "print(ed(points[1],points[2]))"
   ]
  },
  {
   "cell_type": "code",
   "execution_count": 296,
   "id": "special-guinea",
   "metadata": {},
   "outputs": [],
   "source": [
    "def cluster_id(point,centers):\n",
    "    d=float('inf')\n",
    "    index=-1\n",
    "    best_d=float('inf')\n",
    "    for i,c in enumerate(centers):\n",
    "        new_d=ed(point,c)\n",
    "        if new_d<best_d:\n",
    "            best_d=new_d\n",
    "            index=i\n",
    "            \n",
    "    return index"
   ]
  },
  {
   "cell_type": "code",
   "execution_count": 297,
   "id": "immediate-visiting",
   "metadata": {},
   "outputs": [],
   "source": [
    "def crossover(parent1,parent2,child1,child2):\n",
    "    breakpoint = random.randrange(len(parent1.code))\n",
    "    \n",
    "    child1.code[:breakpoint] = parent1.code[:breakpoint]\n",
    "    child2.code[:breakpoint] = parent2.code[:breakpoint]\n",
    "    \n",
    "    child1.code[breakpoint:] = parent2.code[breakpoint:]\n",
    "    child2.code[breakpoint:] = parent1.code[breakpoint:]\n",
    "    \n",
    "    #print(breakpoint)"
   ]
  },
  {
   "cell_type": "code",
   "execution_count": 298,
   "id": "fabulous-breakdown",
   "metadata": {},
   "outputs": [],
   "source": [
    "def selection(population):\n",
    "    \n",
    "    TOURNAMENT_SIZE = 5\n",
    "    bestFitness = float('-inf')\n",
    "    index = -1\n",
    "    for i in range(TOURNAMENT_SIZE):\n",
    "        randomIndividual = random.randrange(len(population))\n",
    "        if population[randomIndividual].fitness > bestFitness:\n",
    "            bestFitness = population[randomIndividual].fitness\n",
    "            index = randomIndividual\n",
    "    return index\n",
    "    \n",
    "    \n",
    "    #biramo random predstavnika za svaki klaster\n",
    "    #koji ce se vremenom unaprediti i tako ce napredovati ceo proces"
   ]
  },
  {
   "cell_type": "code",
   "execution_count": 299,
   "id": "blank-danish",
   "metadata": {},
   "outputs": [],
   "source": [
    "def mutation(individual):\n",
    "    #alfa=random vrednost kojom ce se za neki vektor pomeriti trenutni centar klastera\n",
    "    #c_a =random int koji uz alfa utice na pomeraj centra\n",
    "    #kao parametar/verovatnocu mutacije uzimamo 5% (MUTATION_RATE=0.05)\n",
    "    MUTATION_PROB=0.05\n",
    "    \n",
    "    for i in range(len(individual.code)):\n",
    "        l=np.array(individual.code[i])\n",
    "        alpha=random.uniform(0,1)\n",
    "        c_a=random.randint(0,3)\n",
    "        znak=random.uniform(0,1)\n",
    "        if random.random()<MUTATION_PROB:\n",
    "            if znak>=0.5:\n",
    "                l=l+(alpha*c_a)\n",
    "                l=np.round(l,2)\n",
    "                individual.code[i]=l.tolist()\n",
    "            else:\n",
    "                l=l - (alpha*c_a)\n",
    "                l=np.round(l,2)\n",
    "                individual.code[i]=l.tolist()\n",
    "    "
   ]
  },
  {
   "cell_type": "code",
   "execution_count": 300,
   "id": "mounted-junior",
   "metadata": {},
   "outputs": [],
   "source": [
    "# points=data.tolist()"
   ]
  },
  {
   "cell_type": "markdown",
   "id": "contained-platform",
   "metadata": {},
   "source": [
    "# Parametri genetskog algoritma:\n"
   ]
  },
  {
   "cell_type": "code",
   "execution_count": 301,
   "id": "found-photography",
   "metadata": {},
   "outputs": [],
   "source": [
    "POPULATION_SIZE = 50\n",
    "NUM_GENERATIONS = 30\n",
    "ELITISIM_SIZE = POPULATION_SIZE // 5\n",
    "num_clusters=3"
   ]
  },
  {
   "cell_type": "code",
   "execution_count": null,
   "id": "statistical-correspondence",
   "metadata": {},
   "outputs": [],
   "source": [
    "\n",
    "population = [Individual(points,num_clusters) for _ in range(POPULATION_SIZE)]\n",
    "newPopulation = [Individual(points,num_clusters) for _ in range(POPULATION_SIZE)]\n",
    "\n",
    "for i in range(NUM_GENERATIONS):\n",
    "    population.sort(reverse=True)\n",
    "    newPopulation[:ELITISIM_SIZE] = population[:ELITISIM_SIZE]\n",
    "    \n",
    "    for j in range(ELITISIM_SIZE, POPULATION_SIZE, 2):\n",
    "        \n",
    "        parent1Index = selection(population)\n",
    "        parent2Index = selection(population)\n",
    "        \n",
    "        crossover(population[parent1Index], population[parent2Index], newPopulation[j], newPopulation[j+1])\n",
    "        \n",
    "        #print(j)\n",
    "        #print(population[parent1Index].code)\n",
    "        #print(population[parent2Index].code)\n",
    "        mutation(newPopulation[j])\n",
    "        mutation(newPopulation[j+1])\n",
    "        \n",
    "        newPopulation[j].fitness = newPopulation[j].calcFitness(points,num_clusters)\n",
    "        newPopulation[j+1].fitness = newPopulation[j+1].calcFitness(points,num_clusters)\n",
    "        \n",
    "#         print(j)\n",
    "#         print(newPopulation[j].code)\n",
    "#         print(newPopulation[j+1].code)\n",
    "#         print()\n",
    "#         print()\n",
    "        \n",
    "    population = newPopulation\n",
    "\n",
    "    \n",
    "bestIndividual = max(population)\n",
    "print(f'solution: {bestIndividual.code}, fitness: {bestIndividual.fitness}')"
   ]
  },
  {
   "cell_type": "code",
   "execution_count": 270,
   "id": "05ce3a7a",
   "metadata": {},
   "outputs": [
    {
     "data": {
      "text/plain": [
       "[[8.93, 15.9], [14.38, 10.21], [2.44, 3.9]]"
      ]
     },
     "execution_count": 270,
     "metadata": {},
     "output_type": "execute_result"
    }
   ],
   "source": [
    "cluster_centers=bestIndividual.code\n",
    "cluster_centers"
   ]
  },
  {
   "cell_type": "code",
   "execution_count": 271,
   "id": "involved-benefit",
   "metadata": {},
   "outputs": [],
   "source": [
    "#Svakoj tacki skupa Points dodajemo kao poslednji element redni nroj klastera kome bi trebalo da odgovaraju\n",
    "def assign_center(points,centers):\n",
    "    best_d=float(\"inf\")\n",
    "    ind=-1\n",
    "    n=len(points[0])\n",
    "    \n",
    "    for p in points:\n",
    "        best_d=float('inf')\n",
    "        for j,c in enumerate(centers):\n",
    "            if(len(p)==n and len(c)==n):\n",
    "                d_new=ed(p,c)\n",
    "            \n",
    "                if d_new<best_d:\n",
    "                    ind=j\n",
    "                    best_d=d_new    \n",
    "                    \n",
    "        p.append(ind)\n",
    "        "
   ]
  },
  {
   "cell_type": "code",
   "execution_count": 272,
   "id": "ultimate-elizabeth",
   "metadata": {},
   "outputs": [
    {
     "name": "stdout",
     "output_type": "stream",
     "text": [
      "[0.1505344322292923, 5.469351776496584] [12.795096558946327, 9.333333106767189]\n"
     ]
    }
   ],
   "source": [
    "print(points[0],points[-1])\n"
   ]
  },
  {
   "cell_type": "code",
   "execution_count": 273,
   "id": "varying-imperial",
   "metadata": {},
   "outputs": [],
   "source": [
    "assign_center(points,cluster_centers)\n",
    "# points"
   ]
  },
  {
   "cell_type": "code",
   "execution_count": 274,
   "id": "capital-retrieval",
   "metadata": {},
   "outputs": [
    {
     "name": "stdout",
     "output_type": "stream",
     "text": [
      "[0.1505344322292923, 5.469351776496584, 2] [12.795096558946327, 9.333333106767189, 1]\n"
     ]
    }
   ],
   "source": [
    "print(points[0],points[-1])\n"
   ]
  },
  {
   "cell_type": "code",
   "execution_count": 275,
   "id": "polish-bowling",
   "metadata": {},
   "outputs": [],
   "source": [
    "#pravimo matricu u kojoj svaki red predstavlja listu tacaka za svaki klaster redom\n",
    "def create_cluster_arrays(points,centers):\n",
    "    a=[]\n",
    "    b=[]\n",
    "    c=[]\n",
    "    M=[]\n",
    "    num_clusters=len(centers)\n",
    "    for p in points:\n",
    "        if p[-1]==0:\n",
    "            a.append(p)\n",
    "    \n",
    "    #a=np.array(a)\n",
    "    \n",
    "    for p in points:\n",
    "        if p[-1]==1:\n",
    "            b.append(p)\n",
    "    \n",
    "    #b=np.array(a)\n",
    "#     M=np.vstack((a,b))\n",
    "    M.append(a)\n",
    "    M.append(b)\n",
    "    \n",
    "    for i in range(num_clusters): \n",
    "        c.clear()\n",
    "        for p in points:\n",
    "            if p[-1]==i and i!=0 and i!=1:\n",
    "                c.append(p)\n",
    "#         c=np.array(c)        \n",
    "        M.append(c)\n",
    "    \n",
    "    return M"
   ]
  },
  {
   "cell_type": "code",
   "execution_count": 276,
   "id": "threaded-protocol",
   "metadata": {},
   "outputs": [
    {
     "data": {
      "text/plain": [
       "[[9.221340815993813, 14.900377593311507, 0],\n",
       " [7.708460015704676, 14.529944181140017, 0],\n",
       " [11.189138947361918, 16.19193445619334, 0],\n",
       " [7.611149221298835, 16.99330258033013, 0],\n",
       " [8.143278150673403, 14.101799112518188, 0],\n",
       " [10.354388732473318, 16.49579515931865, 0],\n",
       " [9.897720240442787, 15.098447878222427, 0],\n",
       " [5.965790555111497, 14.12470095754, 0],\n",
       " [6.074765350421802, 15.426717559747427, 0],\n",
       " [4.836669428901524, 15.1224030632317, 0],\n",
       " [10.896932680829131, 14.737048839037833, 0],\n",
       " [7.918407224040253, 17.211137852504418, 0],\n",
       " [11.812486997304578, 16.180392581872205, 0],\n",
       " [4.2767793633744065, 15.898635200835376, 0],\n",
       " [10.113723465392338, 17.903002021042056, 0],\n",
       " [8.10470648477503, 15.691282951534982, 0],\n",
       " [10.597915465298211, 17.597666173560278, 0],\n",
       " [11.304028690100544, 16.714113400866662, 0],\n",
       " [9.571301857874829, 16.53890027248935, 0],\n",
       " [9.024961334747687, 16.497530273528938, 0]]"
      ]
     },
     "execution_count": 276,
     "metadata": {},
     "output_type": "execute_result"
    }
   ],
   "source": [
    "M=create_cluster_arrays(points,cluster_centers)\n",
    "M[0]"
   ]
  },
  {
   "cell_type": "markdown",
   "id": "agreed-technical",
   "metadata": {},
   "source": [
    "# ISCRTAVANJE DOBIJENIH KLASTERA I NJIHOVIH CENTARA:"
   ]
  },
  {
   "cell_type": "code",
   "execution_count": 277,
   "id": "immediate-stupid",
   "metadata": {},
   "outputs": [],
   "source": [
    "import matplotlib.pyplot as plt"
   ]
  },
  {
   "cell_type": "code",
   "execution_count": 278,
   "id": "dental-reserve",
   "metadata": {},
   "outputs": [
    {
     "data": {
      "image/png": "[encoded data removed]",
      "text/plain": [
       "<Figure size 1152x504 with 1 Axes>"
      ]
     },
     "metadata": {
      "needs_background": "light"
     },
     "output_type": "display_data"
    }
   ],
   "source": [
    "if num_dimensions==2:\n",
    "    fig,ax=plt.subplots(figsize=(16,7))\n",
    "    ax.set_title(\"Klasterovanje tacaka genetskim algoritmom(2D): \")\n",
    "    ax.set_xlabel(\"x\")\n",
    "    ax.set_ylabel(\"y\")\n",
    "    \n",
    "    colors=[\"red\",\"green\",\"black\",\"yellow\",\"blue\"]\n",
    "    for i in range(len(M)):\n",
    "        for j in range(len(M[i])):\n",
    "            plt.scatter(((M[i])[j])[0],((M[i])[j])[1],c=colors[i])\n",
    "\n",
    "    for j in range(num_clusters):\n",
    "        plt.scatter((cluster_centers[j])[0],(cluster_centers[j])[1],c=\"orange\",marker=\"x\")\n",
    "        \n",
    "elif num_dimensions==3:\n",
    "    fig=plt.figure(figsize=(16,7))\n",
    "    ax=fig.add_subplot(111,projection='3d')\n",
    "    ax.set_title(\"Klasterovanje tacaka genetskim algoritmom(3D): \")\n",
    "    ax.set_xlabel(\"x\")\n",
    "    ax.set_ylabel(\"y\")\n",
    "    ax.set_zlabel(\"z\")\n",
    "    colors=[\"red\",\"green\",\"black\",\"yellow\",\"blue\"]\n",
    "    for i in range(len(M)):\n",
    "        for j in range(len(M[i])):\n",
    "            ax.scatter(((M[i])[j])[0],((M[i])[j])[1],((M[i])[j])[2],c=colors[i])\n",
    "\n",
    "    for j in range(num_clusters):\n",
    "        ax.scatter((cluster_centers[j])[0],(cluster_centers[j])[1],(cluster_centers[j])[2],c=\"orange\",marker=\"x\")"
   ]
  },
  {
   "cell_type": "code",
   "execution_count": null,
   "id": "express-fighter",
   "metadata": {},
   "outputs": [],
   "source": []
  },
  {
   "cell_type": "code",
   "execution_count": null,
   "id": "imported-twenty",
   "metadata": {},
   "outputs": [],
   "source": []
  },
  {
   "cell_type": "code",
   "execution_count": 996,
   "id": "provincial-christianity",
   "metadata": {},
   "outputs": [],
   "source": [
    "# points_tmp=points\n",
    "\n",
    "# for p in points_tmp:\n",
    "#     p.append(-1)\n",
    "    \n",
    "# #points_tmp[0].pop()\n",
    "# #del points_tmp[0][-1]\n",
    "# print(points_tmp[2][-1])\n",
    "# print(points)\n",
    "# print((points_tmp[2])[:-1])\n",
    "# print(points_tmp)\n"
   ]
  }
 ],
 "metadata": {
  "kernelspec": {
   "display_name": "Python 3",
   "language": "python",
   "name": "python3"
  },
  "language_info": {
   "codemirror_mode": {
    "name": "ipython",
    "version": 3
   },
   "file_extension": ".py",
   "mimetype": "text/x-python",
   "name": "python",
   "nbconvert_exporter": "python",
   "pygments_lexer": "ipython3",
   "version": "3.8.5"
  }
 },
 "nbformat": 4,
 "nbformat_minor": 5
}
